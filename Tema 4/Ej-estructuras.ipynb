{
 "cells": [
  {
   "cell_type": "code",
   "execution_count": 3,
   "metadata": {},
   "outputs": [
    {
     "name": "stdout",
     "output_type": "stream",
     "text": [
      "prueba\n"
     ]
    }
   ],
   "source": [
    "#DICCIONARIOS\n",
    "\"\"\"\n",
    "Los diccionarios tienen datos con estructura clave: valor\n",
    "Se crean con {}.\n",
    "\"\"\"\n",
    "\n",
    "diccionario1 ={\n",
    "    \"Nombre\":\"Sara\",\n",
    "    \"Edad\": 27,\n",
    "    \"Documento\":101010,\n",
    "    \"notas\":[10, 6, 5]\n",
    "}\n",
    "\n",
    "#otra forma de definirlo\n",
    "\n",
    "diccionario2 = dict([\n",
    "    (\"Nombre\", \"Sara\"),\n",
    "    (\"Edad\", 27),\n",
    "    (\"Documento\", 101010)\n",
    "])\n",
    "\n",
    "#y otra forma\n",
    "\n",
    "diccionario3 = dict(\n",
    "    Nombre = 'Sara',\n",
    "    Edad = 27,\n",
    "    Documento = 1003882)"
   ]
  },
  {
   "cell_type": "code",
   "execution_count": null,
   "metadata": {},
   "outputs": [],
   "source": [
    "#Visualización\n",
    "d1 ={\n",
    "    \"Nombre\":\"Sara\",\n",
    "    \"Edad\": 27,\n",
    "    \"Documento\":101010,\n",
    "    \"notas\":[10, 6, 5]\n",
    "}\n",
    "\n",
    "#podemos buscar directamente con los [] como si fuese un array o con la función .get()\n",
    "print(d1['Nombre']) #Sara\n",
    "print(d1.get('Nombre')) #Sara\n",
    "\n",
    "#también se puede modificar la información\n",
    "d1['Nombre'] = \"Laura\"\n",
    "print(d1)   #{'Nombre': Laura', 'Edad': 27, 'Documento': 1003882}\n",
    "\n",
    "#podemos recorrerlo con un for\n",
    "for x in d1:\n",
    "    print(x)\n",
    "\n",
    "#ese for anterior solo recorre las claves, porque los diccionarios tienen dos posiciones de información\n",
    "\n",
    "print()\n",
    "#este recorre los datos\n",
    "for x in d1:\n",
    "    print(d1[x])\n",
    "\n",
    "print()\n",
    "#y este lo da todo, apoyandose en el metodo items para poderlos recorrer sin llamar con []\n",
    "for x, y in d1.items():\n",
    "    print(x, y)\n",
    "\n",
    "#aunque podríamos\n",
    "for x in d1:\n",
    "    print(d1, d1[x])"
   ]
  },
  {
   "cell_type": "code",
   "execution_count": null,
   "metadata": {},
   "outputs": [],
   "source": [
    "#ANIDAR DICCIONARIOS\n",
    "anidado1 = {\"a\": 1, \"b\": 2}\n",
    "anidado2 = {\"a\": 44, \"b\": 55}\n",
    "dentro = {\n",
    "    \"anidado1\" : anidado1,\n",
    "    \"anidado2\" : anidado2\n",
    "}\n",
    "\n",
    "print(dentro) #{'anidado1': {'a': 1, 'b': 2}, 'anidado2': {'a’: 44, 'b’: 55}}\n"
   ]
  },
  {
   "cell_type": "code",
   "execution_count": 4,
   "metadata": {},
   "outputs": [
    {
     "name": "stdout",
     "output_type": "stream",
     "text": [
      "{}\n",
      "1\n",
      "No encontrado\n",
      "dict_items([('a', 1), ('b', 2)])\n",
      "[('a', 1), ('b', 2)]\n",
      "a\n",
      "dict_keys(['a', 'b'])\n",
      "['a', 'b']\n",
      "[1, 2]\n",
      "{'b': 2}\n",
      "{'a': 1, 'b': 2}\n",
      "{'a': 1}\n",
      "{'a': 0, 'b': 2, 'd': 400}\n"
     ]
    }
   ],
   "source": [
    "#MÉTODOS\n",
    "\n",
    "#El método clear() elimina todo el contenido del diccionario.\n",
    "d = {'a': 1, 'b': 2}\n",
    "d.clear()\n",
    "print(d) #{}\n",
    "\n",
    "#get para consultar por key\n",
    "d = {'a': 1, 'b': 2}\n",
    "print(d.get('a')) #1\n",
    "print(d.get('z', 'No encontrado')) #No encontrado\n",
    "\n",
    "#items() para separar las posiciones\n",
    "d = {'a': 1, 'b': 2}\n",
    "it = d.items()\n",
    "print(it) #dict_items([('a', 1), ('b', 2)])\n",
    "print(list(it)) #[('a', 1), ('b', 2)]\n",
    "print(list(it)[0][0]) #a\n",
    "\n",
    "#keys() devuele las keys\n",
    "d = {'a': 1, 'b': 2}\n",
    "k = d.keys()\n",
    "print(k) #dict_keys(['a', 'b'])\n",
    "print(list(k)) #['a', 'b']\n",
    "\n",
    "#values() devuelve los valores registrados sin la key\n",
    "d = {'a': 1, 'b': 2}\n",
    "print(list(d.values())) #[1, 2]\n",
    "\n",
    "#El método pop() busca y elimina la key que se pasa como parámetro y da error si no existe\n",
    "\n",
    "d = {'a': 1, 'b': 2}\n",
    "d.pop('a')\n",
    "print(d) #{'b': 2}\n",
    "\n",
    "#También se puede pasar un segundo parámetro que es el valor a devolver si la key no existe. En este caso no habría error.\n",
    "d = {'a': 1, 'b': 2}\n",
    "d.pop('c', -1)\n",
    "print(d) #{'a': 1, 'b': 2}\n",
    "\n",
    "#El método popitem() elimina como una pula.\n",
    "d = {'a': 1, 'b': 2}\n",
    "d.popitem()\n",
    "print(d)\n",
    "#{'a': 1}\n",
    "\n",
    "#El método update() se llama sobre un diccionario y tiene como entrada otro diccionario. \n",
    "#Los value son actualizados y si alguna key del nuevo diccionario no esta, es añadida.\n",
    "d1 = {'a': 1, 'b': 2}\n",
    "d2 = {'a': 0, 'd': 400}\n",
    "d1.update(d2)\n",
    "print(d1)\n",
    "#{'a': 0, 'b': 2, 'd': 400}"
   ]
  }
 ],
 "metadata": {
  "kernelspec": {
   "display_name": "Python 3",
   "language": "python",
   "name": "python3"
  },
  "language_info": {
   "codemirror_mode": {
    "name": "ipython",
    "version": 3
   },
   "file_extension": ".py",
   "mimetype": "text/x-python",
   "name": "python",
   "nbconvert_exporter": "python",
   "pygments_lexer": "ipython3",
   "version": "3.11.6"
  }
 },
 "nbformat": 4,
 "nbformat_minor": 2
}
