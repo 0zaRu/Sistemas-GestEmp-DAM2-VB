{
 "cells": [
  {
   "cell_type": "code",
   "execution_count": 2,
   "metadata": {},
   "outputs": [
    {
     "name": "stdout",
     "output_type": "stream",
     "text": [
      "frozenset({frozenset({2, 4}), frozenset({1, 3})})\n"
     ]
    }
   ],
   "source": [
    "#FROZENSETS\n",
    "a = frozenset([1, 3])\n",
    "b = frozenset([2, 4])\n",
    "\n",
    "c = frozenset([a, b])\n",
    "\n",
    "print(c)"
   ]
  },
  {
   "cell_type": "code",
   "execution_count": 1,
   "metadata": {},
   "outputs": [
    {
     "name": "stdout",
     "output_type": "stream",
     "text": [
      "35.5\n"
     ]
    }
   ],
   "source": [
    "#CONVERSIONES IMPLICITAS Y EXPLICITAS\n",
    "\n",
    "#IMPLICITA PARA E y EXPLICITA PARA F\n",
    "e = 1\n",
    "f = \"34.5\"\n",
    "\n",
    "print((e+(float(f))))"
   ]
  },
  {
   "cell_type": "code",
   "execution_count": 1,
   "metadata": {},
   "outputs": [
    {
     "name": "stdout",
     "output_type": "stream",
     "text": [
      "Sigo\n"
     ]
    }
   ],
   "source": [
    "#EJ de condicion verdadera o falsa\n",
    "cierto = [\"S\", \"s\"]\n",
    "\n",
    "if(input(\"Quiere seguir? S|N: \") in cierto):\n",
    "    print(\"Sigo\")\n",
    "else:\n",
    "    print(\"Me salgo\")\n",
    "    \n",
    "    "
   ]
  }
 ],
 "metadata": {
  "kernelspec": {
   "display_name": "Python 3",
   "language": "python",
   "name": "python3"
  },
  "language_info": {
   "codemirror_mode": {
    "name": "ipython",
    "version": 3
   },
   "file_extension": ".py",
   "mimetype": "text/x-python",
   "name": "python",
   "nbconvert_exporter": "python",
   "pygments_lexer": "ipython3",
   "version": "3.11.0"
  }
 },
 "nbformat": 4,
 "nbformat_minor": 2
}
