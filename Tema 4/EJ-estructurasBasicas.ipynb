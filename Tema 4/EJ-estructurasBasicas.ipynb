{
 "cells": [
  {
   "cell_type": "code",
   "execution_count": null,
   "metadata": {},
   "outputs": [],
   "source": [
    "#CONDICIONALES IF ELSE ELIF\n",
    "a=6\n",
    "\n",
    "if a > 5:\n",
    "    print(\"Es mayor que 5\"); print(\"Dentro del if\")\n",
    "else:\n",
    "    print(\"Es menor que 5\"); print(\"Dentro del else\")\n",
    "\n",
    "if a < 5:\n",
    "    print(\"Es menor que 5\"); print(\"Dentro del if\")\n",
    "else:\n",
    "    print(\"Es mayor que 5\"); print(\"Dentro del else\")\n",
    "\n",
    "a = 5\n",
    "\n",
    "if (a < 5):\n",
    "    print(\"Es menor que 5\"); print(\"Dentro del if\")\n",
    "elif a == 5 :\n",
    "    print(\"Es igual que 5\"); print(\"Dentro del if\")\n",
    "else:\n",
    "    print(\"Es mayor que 5\"); print(\"Dentro del else\")"
   ]
  },
  {
   "cell_type": "code",
   "execution_count": null,
   "metadata": {},
   "outputs": [],
   "source": [
    "#CONDICIONAL SWITCH #######################################################################################\n",
    "#NO LOS VOY A COPIAR, PERO HAY MUCHOS SWITCH QUE SE SIMULAN CON IF ELIF ELSE, METODOS, O LA MEZCLA DE AMBAS\n",
    "\n",
    "#es especifico este de lambdas no va o no se usarlo\n",
    "def opera(operador, a, b):\n",
    "    return {\n",
    "        'suma':lambda: a+b,\n",
    "        'resta':lambda: a-b,\n",
    "        'multiplica':lambda: a*b,\n",
    "        'divide':lambda: a/b\n",
    "    }.get(operador, lambda:None)    \n",
    "\n",
    "print()\n",
    "print(opera('suma', 10, 2))\n",
    "print()"
   ]
  },
  {
   "cell_type": "code",
   "execution_count": null,
   "metadata": {},
   "outputs": [],
   "source": [
    "#switch con diccionarios\n",
    "tabla_switch = {\n",
    "    '0': '000',\n",
    "    '1': '001',\n",
    "    '2': '010',\n",
    "    '3': '011',\n",
    "    '4': '100',\n",
    "    '5': '101',\n",
    "    '6': '110',\n",
    "    '7': '111',\n",
    "}\n",
    "\n",
    "def usaDiccionario(decimal):\n",
    "    return tabla_switch.get(decimal)\n",
    "\n",
    "#input devuelve siempre cadenas, así que habría que hacer castings para almacenarlo de otra forma\n",
    "print()\n",
    "print(usaDiccionario(input(\"introduce un numero entre 0 y 7: \")))"
   ]
  },
  {
   "cell_type": "code",
   "execution_count": null,
   "metadata": {},
   "outputs": [],
   "source": [
    "#BUCLES E ITERADORES ####################################################################################\n",
    "print()\n",
    "cadena = 'Cadena prueba'\n",
    "\n",
    "for i in cadena:\n",
    "    print(\"caracter:\", i)"
   ]
  },
  {
   "cell_type": "code",
   "execution_count": null,
   "metadata": {},
   "outputs": [],
   "source": [
    "#Comprobacion de \"iterables\" para saber si se puede recorrer de forma habitual o no, x información\n",
    "print()\n",
    "from typing import Iterable\n",
    "lista = [1, 2, 3, 4] \n",
    "cadena = \"Python\" \n",
    "numero = 10 \n",
    "print(isinstance(lista, Iterable)) #True \n",
    "print(isinstance(cadena, Iterable)) #True \n",
    "print(isinstance(numero, Iterable)) #False"
   ]
  },
  {
   "cell_type": "code",
   "execution_count": null,
   "metadata": {},
   "outputs": [],
   "source": [
    "#Hacer las cosas iterables\n",
    "print()\n",
    "lista = [5, 6, 3, 2]\n",
    "it = iter(lista)\n",
    "print(it) #<list_iterator object at 0x...>\n",
    "print(type(it)) #<class 'list_iterator'>\n"
   ]
  },
  {
   "cell_type": "code",
   "execution_count": null,
   "metadata": {},
   "outputs": [],
   "source": [
    "#utilizar función next\n",
    "print()\n",
    "lista = [5, 6, 7]\n",
    "it1 = iter(lista)\n",
    "it2 = iter(lista)\n",
    "print(next(it1)) #5\n",
    "print(next(it1)) #6\n",
    "print(next(it1)) #7\n",
    "# print(next(it1))   daría error, porque se sale del tamaño de la lista\n",
    "print(next(it2)) #5"
   ]
  },
  {
   "cell_type": "code",
   "execution_count": null,
   "metadata": {},
   "outputs": [],
   "source": [
    "#Bucle for\n",
    "#bucles anidados (recorrer matrices)\n",
    "#en este caso, tenemos hasta dimensione diferentes, y podemos recorrerlo igual con las comprobaciones suficientes\n",
    "print()\n",
    "lista = [[[56, 34, 62], 34, 1], [12, 4, 5], [9, 4, 3]]\n",
    "\n",
    "for i in lista:\n",
    "    print(\"i vale:\",i)\n",
    "    for j in i:\n",
    "        print(\"\\tj vale:\",j)\n",
    "        if type(j) == list:\n",
    "            for k in j:\n",
    "                print(\"\\t\\tk vale:\",k)\n",
    "    print()\n"
   ]
  },
  {
   "cell_type": "code",
   "execution_count": null,
   "metadata": {},
   "outputs": [],
   "source": [
    "#recorrido con salto \n",
    "print()\n",
    "texto = \"Python\"\n",
    "for i in texto[::-1]:\n",
    "    print(i) #n,o,h,t,y,P\n",
    "\n",
    "\n",
    "print()\n",
    "texto = \"Python\"\n",
    "for i in texto[::2]:\n",
    "    print(i) #P,t,o"
   ]
  },
  {
   "cell_type": "code",
   "execution_count": null,
   "metadata": {},
   "outputs": [],
   "source": [
    "#recorrido de numeros enteros\n",
    "print()\n",
    "a = range(5)\n",
    "\n",
    "for i in a:\n",
    "    print(i)\n",
    "\n",
    "print()\n",
    "for i in range(4, 8):\n",
    "    print(i)"
   ]
  },
  {
   "cell_type": "code",
   "execution_count": null,
   "metadata": {},
   "outputs": [],
   "source": [
    "#puedo hacer un factorial solo aplicando el metodo sum a un rango\n",
    "print()\n",
    "print(sum(a)) #son 4 vueltas y no 5, porque es del 0 al 4, así que da 10\n",
    "\n",
    "#puedo hacer cosas muy raras:\n",
    "print()\n",
    "print(sum(i for i in range(10)))"
   ]
  },
  {
   "cell_type": "code",
   "execution_count": null,
   "metadata": {},
   "outputs": [],
   "source": [
    "##############################################################################\n",
    "#WHILE\n",
    "print()\n",
    "x = 5 \n",
    "while x > 0: \n",
    "    x -= 1\n",
    "    print(x) \n",
    "\n",
    "#en este caso, el while será siempre i cuando queden elementos (pop los saca desde \"arriba\")\n",
    "print()\n",
    "x = [\"Uno\", \"Dos\", \"Tres\"] \n",
    "while x: \n",
    "    print(\"popeado: [\"+x.pop(0)+\"]\\trestante: \", x, end=\" \") \n",
    "    print()"
   ]
  },
  {
   "cell_type": "code",
   "execution_count": null,
   "metadata": {},
   "outputs": [],
   "source": [
    "# WHILE ELSE que cojones\n",
    "print()\n",
    "x = 5\n",
    "while x > 0: \n",
    "    x -=1 \n",
    "    print(x, end=\" \") #4,3,2,1,0 \n",
    "\n",
    "else: \n",
    "    print()\n",
    "    print(\"El bucle ha finalizado\")"
   ]
  },
  {
   "cell_type": "code",
   "execution_count": null,
   "metadata": {},
   "outputs": [],
   "source": [
    "# más bucles anidados\n",
    "i = 0 \n",
    "j = 0 \n",
    "while i < 3: \n",
    "    while j < 3: \n",
    "        print(i,j) \n",
    "        j += 1 \n",
    "    i += 1 \n",
    "\n",
    "print()\n",
    "text = \"Python\"\n",
    "i = 0\n",
    "while i < len(text):\n",
    "    print(text[:i + 1])\n",
    "    i += 1"
   ]
  },
  {
   "cell_type": "code",
   "execution_count": null,
   "metadata": {},
   "outputs": [],
   "source": [
    "#Puedes multiplicar conjuntos de texto para que salgan tantas veces como quieras\n",
    "#El arbol se queda sencillito sencillito\n",
    "z = 7 \n",
    "x = 1 \n",
    "while z > 0: \n",
    "    print(' ' * z + '*' * x + ' ' * z) \n",
    "    x+=2 \n",
    "    z-=1"
   ]
  },
  {
   "cell_type": "code",
   "execution_count": null,
   "metadata": {},
   "outputs": [],
   "source": [
    "#Con el break salimos y termina por no sumar nunca nada a la j\n",
    "for i in range(0, 4):\n",
    "    for j in range(0, 4):\n",
    "        break\n",
    "        print(i, j)"
   ]
  },
  {
   "cell_type": "code",
   "execution_count": null,
   "metadata": {},
   "outputs": [],
   "source": [
    "#Continua se sale de la vuelta pero sigue\n",
    "cadena = 'Python'\n",
    "for letra in cadena:\n",
    "    if letra == 'P':\n",
    "        continue\n",
    "    print(letra)"
   ]
  },
  {
   "cell_type": "code",
   "execution_count": null,
   "metadata": {},
   "outputs": [],
   "source": [
    "#funcion zip, junta dos listas en 1, que aunque es tipo zip, podemos recorrer aplicandole la funcion list()\n",
    "#si alguno tuviese mas parametros que el otro, solo se juntarían tantos como tenga el más pequeño\n",
    "a = [1, 2]\n",
    "b = [\"Uno\", \"Dos\"]\n",
    "c = zip(a, b)\n",
    "\n",
    "print(list(c))\n",
    "\n",
    "for numero, texto in zip(a, b):\n",
    "    print(\"Número\", numero, \"Letra\", texto)"
   ]
  },
  {
   "cell_type": "code",
   "execution_count": null,
   "metadata": {},
   "outputs": [],
   "source": [
    "#zip de multi listas y formas de recorrerlo\n",
    "\n",
    "numeros = [1, 2]\n",
    "espanol = [\"Uno\", \"Dos\"]\n",
    "ingles = [\"One\", \"Two\"]\n",
    "frances = [\"Un\", \"Deux\"]\n",
    "c = zip(numeros, espanol, ingles, frances)\n",
    "\n",
    "for n, e, i, f in zip(numeros, espanol, ingles, frances):\n",
    "    print(n, e, i, f)\n",
    "\n",
    "\n",
    "for n in c:\n",
    "    print(n, n, n, n)"
   ]
  },
  {
   "cell_type": "code",
   "execution_count": null,
   "metadata": {},
   "outputs": [],
   "source": [
    "#recorrer una lista de forma inversa\n",
    "letras = [\"A\", \"B\", \"C\"]\n",
    "\n",
    "#recordamos que range funciona con los paremetros range(inicio, bandera, incremento)\n",
    "for i in range(len(letras)-1, -1, -1):\n",
    "    print(letras[i], end=\" \")\n"
   ]
  },
  {
   "cell_type": "code",
   "execution_count": null,
   "metadata": {},
   "outputs": [],
   "source": [
    "personas_autorizadas = [\"Alberto\", \"Carmen\"]\n",
    "nombre = input(\"Dígame su nombre: \")\n",
    "if nombre in (personas_autorizadas):\n",
    "    print(\"Está autorizado\")\n",
    "else:\n",
    "    print(\"No está autorizado\")\n",
    "\n",
    "if nombre not in personas_autorizadas:\n",
    "    print(\"No está autorizado\")\n",
    "else:\n",
    "    print(\"Está autorizado\")\n"
   ]
  },
  {
   "cell_type": "code",
   "execution_count": null,
   "metadata": {},
   "outputs": [],
   "source": [
    "personas_autorizadas = [\"Alberto\", \"Carmen\"]\n",
    "nombre = input(\"Dígame su nombre: \")\n",
    "\n",
    "if nombre in personas_autorizadas:\n",
    "    print(\"Está autorizado\")\n",
    "else:\n",
    "    print(\"No está autorizado\")\n",
    "if nombre not in personas_autorizadas:\n",
    "    print(\"No está autorizado\")\n",
    "else:\n",
    "    print(\"Está autorizado\")\n"
   ]
  },
  {
   "cell_type": "code",
   "execution_count": null,
   "metadata": {},
   "outputs": [],
   "source": [
    "#concatenar\n",
    "\n",
    "lista = [1, 2]\n",
    "lista=lista+['G']\n",
    "\n",
    "print(list(lista))"
   ]
  },
  {
   "cell_type": "code",
   "execution_count": null,
   "metadata": {},
   "outputs": [],
   "source": [
    "#concatenar y recorrer\n",
    "asig = [\"Matemáticas\", \"Física\", \"Química\", \"Historia\", \"Lengua\"]\n",
    "notas = []\n",
    "for asignatura in asig:\n",
    "    nota = input(\"¿Qué nota has sacado en \" + asignatura +\"?\")\n",
    "    notas.append(nota)\n",
    "\n",
    "for i in range(len(asig)):\n",
    "    print(\"En \" + asig[i] + \" has sacado \" + notas[i])\n"
   ]
  },
  {
   "cell_type": "code",
   "execution_count": null,
   "metadata": {},
   "outputs": [],
   "source": [
    "#tupla se parece a los Object\n",
    "tupla = 1, 2, ('a', 'b'), 3\n",
    "\n",
    "print(tupla) #(1, 2, ('a', 'b'), 3)\n",
    "print(tupla[2][0]) #a\n",
    "\n",
    "#además podemos hacer una posición bidimensional mientras que el resto no lo es y cosas raras.\n",
    "#por ejemplo solo podemos poner los [] de la segunda dimensión cuando estemos en la posición 2, porque en otro caso daría error"
   ]
  },
  {
   "cell_type": "code",
   "execution_count": null,
   "metadata": {},
   "outputs": [],
   "source": [
    "#convertir a tupla\n",
    "lista = [1, 2, 3]\n",
    "tupla = tuple(lista)\n",
    "print(type(tupla)) #<class 'tuple'>\n",
    "print(tupla) #(1, 2, 3)\n",
    "\n",
    "\n",
    "#a la inversa\n",
    "tupla = (1, 2, 3)\n",
    "lista = list(tupla)\n",
    "print(type(lista)) #<class 'list'>\n",
    "print(lista) #(1, 2, 3)"
   ]
  },
  {
   "cell_type": "code",
   "execution_count": null,
   "metadata": {},
   "outputs": [],
   "source": [
    "#asignación d euna tupla de n valores a n variables\n",
    "l = (1, 2, 3)\n",
    "x, y, z = l\n",
    "print(x, y, z) #1 2 3"
   ]
  },
  {
   "cell_type": "code",
   "execution_count": null,
   "metadata": {},
   "outputs": [],
   "source": [
    "#count cuenta cuantas veces hay en la lista lo que le pasemos como parámetro\n",
    "l = [1, 1, 1, 3, 5]\n",
    "print(l.count(1)) #3\n",
    "\n",
    "#index devuelve la posición en la que se encuentra por primera vez un valor pasado por parametro, dentro de la lista\n",
    "l = [7, 7, 7, 3, 5]\n",
    "print(l.index(5)) #4\n",
    "\n",
    "#index tiene un parámetro para marcar a partir de cual encontrado contar (en este caso es para que te devuelva el del segundo encontrado)\n",
    "l = [7, 7, 7, 3, 5]\n",
    "print(l.index(7, 2)) #2\n",
    "\n"
   ]
  },
  {
   "cell_type": "code",
   "execution_count": null,
   "metadata": {},
   "outputs": [],
   "source": [
    "#los sets son como las listas pero con valores unicos y sin orden\n",
    "\n",
    "s = set([5, 4, 6, 8, 8, 1])\n",
    "print(s) #{1, 4, 5, 6, 8}\n",
    "print(type(s)) #<class 'set’>\n",
    "\n",
    "#Se puede hacer lo mismo haciendo uso de {} y sin usar la palabra set().\n",
    "\n",
    "s = {5, 4, 6, 8, 8, 1}\n",
    "print(s) #{1, 4, 5, 6, 8}\n",
    "print(type(s)) #<class 'set'>\n",
    "\n",
    "#no se pueden modificar através de indices. tampoco pueden ser diccionarios ni ser modificados\n",
    "\n",
    "#se pueden iterar como una lista\n",
    "s = set([5, 6, 7, 8])\n",
    "for ss in s:\n",
    "    print(ss) #8, 5, 6, 7\n",
    "\n",
    "\n",
    "#tiene compatibilidad con operadores, por ejemplo con OR\n",
    "s1 = set([1, 2, 3])\n",
    "s2 = set([3, 4, 5])\n",
    "print(s1 | s2) #{1, 2, 3, 4, 5}\n",
    "\n",
    "#tambien podría ser con el metodo union\n",
    "print(s1.union(s2)) #{1, 2, 3, 4, 5}\n",
    "\n",
    "#existe la interseccion o el & para que devuelva solo los coincidentes\n",
    "print(s1 & s2) #{3}\n",
    "print(s1.intersection(s2)) #{3}\n",
    "\n"
   ]
  },
  {
   "cell_type": "code",
   "execution_count": null,
   "metadata": {},
   "outputs": [],
   "source": [
    "#los sets tienen metodos asociados\n",
    "\n",
    "#add\n",
    "l = set([1, 2])\n",
    "l.add(3)\n",
    "print(l) #{1, 2, 3}\n",
    "\n",
    "#remove\n",
    "s = set([1, 2])\n",
    "s.remove(2)\n",
    "print(s) #{1}\n",
    "\n",
    "#discard (como remove pero no da error en caso de que no exista)\n",
    "s = set([1, 2])\n",
    "s.discard(3)\n",
    "print(s) #{1, 2}\n",
    "\n",
    "#pop elimina y devuelve el elemento a la cabeza del set\n",
    "s = set([1, 2])\n",
    "s.pop()\n",
    "print(s) #{2} || {1}\n",
    "\n",
    "#clear\n",
    "s = set([1, 2])\n",
    "s.clear()\n",
    "print(s) #set()\n",
    "\n",
    "#Muchos otros:\n",
    "\"\"\"\n",
    "s1.union(s2[, s3 ...])\n",
    "s1.intersection(s2[, s3 ...])\n",
    "s1.difference(s2[, s3 ...])\n",
    "s1.symmetric_difference(s2)\n",
    "s1.isdisjoint(s2)\n",
    "s1.issubset(s2)\n",
    "s1.issuperset(s2)\n",
    "s1.update(s2[, s3 ...])\n",
    "s1.intersection_update(s2[, s3 ...])\n",
    "s1.difference_update(s2[, s3 ...])\n",
    "s1.symmetric_difference_update(s2)\n",
    "\"\"\"\n"
   ]
  }
 ],
 "metadata": {
  "kernelspec": {
   "display_name": "Python 3",
   "language": "python",
   "name": "python3"
  },
  "language_info": {
   "name": "python",
   "version": "3.9.7"
  }
 },
 "nbformat": 4,
 "nbformat_minor": 2
}
