{
 "cells": [
  {
   "cell_type": "code",
   "execution_count": 1,
   "metadata": {},
   "outputs": [
    {
     "ename": "ModuleNotFoundError",
     "evalue": "No module named 'networkx'",
     "output_type": "error",
     "traceback": [
      "\u001b[1;31m---------------------------------------------------------------------------\u001b[0m",
      "\u001b[1;31mModuleNotFoundError\u001b[0m                       Traceback (most recent call last)",
      "\u001b[1;32mc:\\Users\\arube\\OneDrive - Educacyl\\Sistemas de Gestión Empresarial\\Proyectos\\Propio\\EJ1.ipynb Celda 1\u001b[0m line \u001b[0;36m2\n\u001b[0;32m      <a href='vscode-notebook-cell:/c%3A/Users/arube/OneDrive%20-%20Educacyl/Sistemas%20de%20Gesti%C3%B3n%20Empresarial/Proyectos/Propio/EJ1.ipynb#W0sZmlsZQ%3D%3D?line=0'>1</a>\u001b[0m \u001b[39mimport\u001b[39;00m \u001b[39mnumpy\u001b[39;00m \u001b[39mas\u001b[39;00m \u001b[39mnp\u001b[39;00m\n\u001b[1;32m----> <a href='vscode-notebook-cell:/c%3A/Users/arube/OneDrive%20-%20Educacyl/Sistemas%20de%20Gesti%C3%B3n%20Empresarial/Proyectos/Propio/EJ1.ipynb#W0sZmlsZQ%3D%3D?line=1'>2</a>\u001b[0m \u001b[39mimport\u001b[39;00m \u001b[39mnetworkx\u001b[39;00m \u001b[39mas\u001b[39;00m \u001b[39mnx\u001b[39;00m\n",
      "\u001b[1;31mModuleNotFoundError\u001b[0m: No module named 'networkx'"
     ]
    }
   ],
   "source": [
    "import numpy as np"
   ]
  },
  {
   "cell_type": "code",
   "execution_count": 3,
   "metadata": {},
   "outputs": [
    {
     "name": "stdout",
     "output_type": "stream",
     "text": [
      "El resultado de la suma es  5\n"
     ]
    }
   ],
   "source": [
    "n1 = int(input(\"Introduce el numero 1: \"))\n",
    "n2 = int(input(\"Introduce el numero 2: \"))\n",
    "\n",
    "print(\"El resultado de la suma es \", n1 + n2)"
   ]
  },
  {
   "cell_type": "code",
   "execution_count": null,
   "metadata": {},
   "outputs": [
    {
     "name": "stdout",
     "output_type": "stream",
     "text": [
      "----------- Calculadora -----------\n",
      "1. Suma\n",
      "2. Resta\n",
      "3. Multiplicación\n",
      "4. División\n",
      "5. Salir\n",
      "-----------------------------------\n"
     ]
    },
    {
     "ename": "",
     "evalue": "",
     "output_type": "error",
     "traceback": [
      "\u001b[1;31mEl Kernel se bloqueó al ejecutar código en la celda actual o en una celda anterior. Revise el código de las celdas para identificar una posible causa del error. Haga clic <a href='https://aka.ms/vscodeJupyterKernelCrash'>aquí</a> para obtener más información. Vea el [registro] de Jupyter (command:jupyter.viewOutput) para obtener más detalles."
     ]
    }
   ],
   "source": [
    "# Definimos las funciones que realizan las operaciones aritméticas\n",
    "def suma(a, b):\n",
    "    return a + b\n",
    "\n",
    "def resta(a, b):\n",
    "    return a - b\n",
    "\n",
    "def multiplicacion(a, b):\n",
    "    return a * b\n",
    "\n",
    "def division(a, b):\n",
    "    if b == 0:\n",
    "        return \"Error: División entre cero...\"\n",
    "    else:\n",
    "        return a / b\n",
    "\n",
    "# Definimos la función que muestra el menú y devuelve la opción elegida\n",
    "def menu():\n",
    "    print(\"----------- Calculadora -----------\")\n",
    "    print(\"1. Suma\")\n",
    "    print(\"2. Resta\")\n",
    "    print(\"3. Multiplicación\")\n",
    "    print(\"4. División\")\n",
    "    print(\"5. Salir\")\n",
    "    print(\"-----------------------------------\")\n",
    "    opcion = int(input(\"Seleccione una opción: \"))\n",
    "    return opcion\n",
    "\n",
    "# Definimos la función que simula un switch con un diccionario\n",
    "def switch(opcion, a, b):\n",
    "    sw = {\n",
    "        1: suma(a, b),\n",
    "        2: resta(a, b),\n",
    "        3: multiplicacion(a, b),\n",
    "        4: division(a, b),\n",
    "        5: \"Adiós\"\n",
    "    }\n",
    "    return sw.get(opcion, \"Opción inválida\")\n",
    "\n",
    "# Programa principal\n",
    "while True:\n",
    "    # Pedimos los valores de a y b\n",
    "    a = int(input(\"Valor de a: \"))\n",
    "    b = int(input(\"Valor de b: \"))\n",
    "    \n",
    "    # Mostramos el menú y obtenemos la opción\n",
    "    opcion = menu()\n",
    "    \n",
    "    # Ejecutamos el switch y mostramos el resultado\n",
    "    resultado = switch(opcion, a, b)\n",
    "    print(resultado)\n",
    "    \n",
    "    # Si la opción es 5, salimos del bucle\n",
    "    if opcion == 5:\n",
    "        break\n"
   ]
  }
 ],
 "metadata": {
  "kernelspec": {
   "display_name": "Python 3",
   "language": "python",
   "name": "python3"
  },
  "language_info": {
   "codemirror_mode": {
    "name": "ipython",
    "version": 3
   },
   "file_extension": ".py",
   "mimetype": "text/x-python",
   "name": "python",
   "nbconvert_exporter": "python",
   "pygments_lexer": "ipython3",
   "version": "3.10.9"
  }
 },
 "nbformat": 4,
 "nbformat_minor": 2
}
