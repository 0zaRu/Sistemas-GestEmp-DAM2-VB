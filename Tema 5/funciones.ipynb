{
 "cells": [
  {
   "cell_type": "code",
   "execution_count": 1,
   "metadata": {},
   "outputs": [
    {
     "name": "stdout",
     "output_type": "stream",
     "text": [
      "Imprimer esto antes y después\n",
      "Entra en funcion suma\n",
      "Imprimer esto antes y después\n",
      "86\n"
     ]
    }
   ],
   "source": [
    "#USO DE DECORADORES EN METODOS CON PARAMETROS\n",
    "def mi_decorador(arg):\n",
    "    def decorador_real(funcion):\n",
    "        def nueva_funcion(a, b):\n",
    "            print(arg)\n",
    "            c = funcion(a, b)\n",
    "            print(arg)\n",
    "            return c\n",
    "        return nueva_funcion\n",
    "    return decorador_real\n",
    "\n",
    "@mi_decorador(\"Imprimer esto antes y después\")\n",
    "def suma(a, b):\n",
    "    print(\"Entra en funcion suma\")\n",
    "    return a + b\n",
    "\n",
    "print(suma(8,78))"
   ]
  },
  {
   "cell_type": "code",
   "execution_count": 7,
   "metadata": {},
   "outputs": [
    {
     "name": "stdout",
     "output_type": "stream",
     "text": [
      "Imprimer esto antes y después\n",
      "Entra en funcion ejemplo\n",
      "Imprimer esto antes y después\n",
      "24\n"
     ]
    }
   ],
   "source": [
    "#USO DE DECORADORES EN METODOS SIN PARAMENTROS\n",
    "def mi_decorador(arg):\n",
    "    def decorador_real(funcion):\n",
    "        print(arg)\n",
    "        c = funcion()\n",
    "        print(arg)\n",
    "        return c\n",
    "    return decorador_real\n",
    "\n",
    "@mi_decorador(\"Imprimer esto antes y después\")\n",
    "def ejemplo():\n",
    "    print(\"Entra en funcion ejemplo\")\n",
    "    return 24\n",
    "\n",
    "print(ejemplo)"
   ]
  },
  {
   "cell_type": "code",
   "execution_count": 1,
   "metadata": {},
   "outputs": [],
   "source": [
    "#DECORADORES Y ACCESO A FICHEROS\n",
    "def log(fichero_log):\n",
    "    def decorador_log(func):\n",
    "        def decorador_funcion(*args, **kwargs):\n",
    "            with open(fichero_log, 'a') as opened_file:\n",
    "                output = func(*args, **kwargs)\n",
    "                opened_file.write(f\"{output}\\n\")\n",
    "        return decorador_funcion\n",
    "    return decorador_log\n",
    "\n",
    "@log('ficherosalida.log')\n",
    "def suma(a, b):\n",
    "    return a + b\n",
    "\n",
    "@log('ficherosalida.log')\n",
    "def resta(a, b):\n",
    "    return a - b\n",
    "\n",
    "@log('ficherosalida.log')\n",
    "def multiplicadivide(a, b, c):\n",
    "    return a*b/c\n",
    "\n",
    "suma(10, 30)\n",
    "resta(7, 23)\n",
    "multiplicadivide(5, 10, 2)\n"
   ]
  },
  {
   "cell_type": "code",
   "execution_count": 4,
   "metadata": {},
   "outputs": [
    {
     "name": "stdout",
     "output_type": "stream",
     "text": [
      "Función: <function funcion at 0x00000163A477A660>\n",
      "Generador: <function generador at 0x00000163A4779B20>\n",
      "\n",
      "Next generador: 45\n",
      "Next generador: 46\n",
      "Next generador: 47\n"
     ]
    }
   ],
   "source": [
    "#FUNCIONES Y GENERADORES\n",
    "\n",
    "#Mientras que esto sería una función normal\n",
    "def funcion():\n",
    "    return 45\n",
    "\n",
    "#Esto sería un generador porque se devuelve con yield\n",
    "def generador():\n",
    "    yield 45\n",
    "    yield 46\n",
    "    yield 47\n",
    "    \n",
    "print(\"Función:\", funcion)\n",
    "print(\"Generador:\", generador)\n",
    "\n",
    "#Asignando el generador a una variable, podemos ir sacando en orden los yield con un next(a)\n",
    "a = generador()\n",
    "print(\"\\nNext generador:\", next(a))\n",
    "print(\"Next generador:\", next(a))\n",
    "print(\"Next generador:\", next(a))"
   ]
  },
  {
   "cell_type": "code",
   "execution_count": 6,
   "metadata": {},
   "outputs": [
    {
     "name": "stdout",
     "output_type": "stream",
     "text": [
      "0\n",
      "1\n",
      "2\n",
      "3\n",
      "\n",
      "0\n",
      "1\n",
      "2\n",
      "3\n"
     ]
    }
   ],
   "source": [
    "#OTRO EJEMPLO DE GENERADORES\n",
    "def generador():\n",
    "    for i in range(4):\n",
    "        yield i\n",
    "        \n",
    "\n",
    "resultado = generador()\n",
    "for i in range(4):\n",
    "    print(next(resultado))\n",
    "    \n",
    "print()\n",
    "#O OTRA FORMA\n",
    "for i in generador():\n",
    "    print(i)"
   ]
  },
  {
   "cell_type": "code",
   "execution_count": 8,
   "metadata": {},
   "outputs": [
    {
     "name": "stdout",
     "output_type": "stream",
     "text": [
      "4 16 36 64 100 "
     ]
    }
   ],
   "source": [
    "#LISTAS DE COMPRENSIÓN Y GENERADORES\n",
    "lista = [2, 4, 6, 8, 10]\n",
    "al_cuadrado_generador = (x**2 for x in lista)\n",
    "\n",
    "for i in al_cuadrado_generador:\n",
    "    print(i, end=\" \")\n"
   ]
  },
  {
   "cell_type": "code",
   "execution_count": 10,
   "metadata": {},
   "outputs": [
    {
     "name": "stdout",
     "output_type": "stream",
     "text": [
      "0 1 4 9 16 25 36 49 64 81 "
     ]
    }
   ],
   "source": [
    "#CLASES Y METODOS PRE EXISTENTES\n",
    "class AlCuadrado: \n",
    "    #Este es el nombre del constructor de la clase\n",
    "    def __init__(self): \n",
    "        self.i = 0\n",
    "\n",
    "    #Iter y Next son dos métodos especiales que se invocan en conjunto\n",
    "    #Con ambos podemos establecer como será el \"recorrido\" en caso de querer observar la clase\n",
    "    def __iter__(self): \n",
    "        return self\n",
    "\n",
    "    def __next__(self): \n",
    "        if self.i > 9:\n",
    "            raise StopIteration\n",
    "        \n",
    "        result = self.i ** 2\n",
    "        self.i += 1\n",
    "        return result\n",
    "\n",
    "\n",
    "eleva_al_cuadrado = AlCuadrado()\n",
    "for i in eleva_al_cuadrado:\n",
    "    print(i, end=\" \")"
   ]
  },
  {
   "cell_type": "code",
   "execution_count": 11,
   "metadata": {},
   "outputs": [
    {
     "name": "stdout",
     "output_type": "stream",
     "text": [
      "Nombre: Sergio\n",
      "Sueldo: 1230.0\n",
      "No paga impuestos\n"
     ]
    }
   ],
   "source": [
    "#EJEMPLO PARA LAS CLASES\n",
    "class Empleado:\n",
    "    def __init__(self):\n",
    "        self.nombre=input(\"Ingrese el nombre del empleado:\")\n",
    "        self.sueldo=float(input(\"Ingrese el sueldo:\"))\n",
    "    \n",
    "    def imprimir(self):\n",
    "        print(\"Nombre:\",self.nombre)\n",
    "        print(\"Sueldo:\",self.sueldo)\n",
    "    \n",
    "    def paga_impuestos(self):\n",
    "        if self.sueldo>3000:\n",
    "            print(\"Debe pagar impuestos\")\n",
    "        else:\n",
    "            print(\"No paga impuestos\")\n",
    "            \n",
    "empleado1=Empleado()\n",
    "empleado1.imprimir()\n",
    "empleado1.paga_impuestos()\n"
   ]
  }
 ],
 "metadata": {
  "kernelspec": {
   "display_name": "Python 3",
   "language": "python",
   "name": "python3"
  },
  "language_info": {
   "codemirror_mode": {
    "name": "ipython",
    "version": 3
   },
   "file_extension": ".py",
   "mimetype": "text/x-python",
   "name": "python",
   "nbconvert_exporter": "python",
   "pygments_lexer": "ipython3",
   "version": "3.11.0"
  }
 },
 "nbformat": 4,
 "nbformat_minor": 2
}
