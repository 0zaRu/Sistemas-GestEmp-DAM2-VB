{
 "cells": [
  {
   "cell_type": "code",
   "execution_count": 8,
   "metadata": {},
   "outputs": [
    {
     "data": {
      "text/plain": [
       "('Método normal', <__main__.Clase at 0x1ca03a94090>)"
      ]
     },
     "execution_count": 8,
     "metadata": {},
     "output_type": "execute_result"
    }
   ],
   "source": [
    "#EJEMPLO DE CLASE E INSTANCIA DE ESTA\n",
    "class Clase:\n",
    "\n",
    "    def metodo(self):\n",
    "        return 'Método normal', self\n",
    "\n",
    "    @classmethod\n",
    "    def metododeclase(cls):\n",
    "        return 'Método de clase', cls\n",
    "\n",
    "    @staticmethod\n",
    "    def metodoestatico():\n",
    "        return \"Método estático\"\n",
    "\n",
    "    def metodo(self, arg1, arg2):\n",
    "        return 'Método normal', self\n",
    "    \n",
    "    #METODO DE TIPO CLASS, SE INVOCAN CON CLS\n",
    "    #@classmethod\n",
    "    #def metododeclase(cls):\n",
    "    #    return 'Método de clase', cls\n",
    "\n",
    "\n",
    "\n",
    "mi_clase = Clase()\n",
    "mi_clase.metodo(\"a\", \"b\")\n",
    "#mi_clase.metododeclase()"
   ]
  },
  {
   "cell_type": "code",
   "execution_count": 10,
   "metadata": {},
   "outputs": [
    {
     "name": "stdout",
     "output_type": "stream",
     "text": [
      "Es un fecha\n"
     ]
    }
   ],
   "source": [
    "#EJEMPLO DE CLASE CON METODO STATICO\n",
    "class Date(object):\n",
    "    def __init__(self, day=0, month=0, year=0):\n",
    "        self.day = day\n",
    "        self.month = month\n",
    "        self.year = year\n",
    "\n",
    "    @classmethod\n",
    "    def from_string(cls, date_as_string):\n",
    "        day, month, year = map(int, date_as_string.split('-'))\n",
    "        date1 = cls(day, month, year)\n",
    "        return date1\n",
    "\n",
    "    @staticmethod\n",
    "    def is_date_valid(date_as_string):\n",
    "        day, month, year = map(int, date_as_string.split('-'))\n",
    "        return day <= 31 and month <= 12 and year <= 3999\n",
    "\n",
    "\n",
    "date2 = Date.from_string('11-09-2012')\n",
    "\n",
    "if Date.is_date_valid('11-09-2012'):\n",
    "    print(\"Es un fecha\")\n"
   ]
  },
  {
   "cell_type": "code",
   "execution_count": 12,
   "metadata": {},
   "outputs": [
    {
     "name": "stdout",
     "output_type": "stream",
     "text": [
      "(<class '__main__.Animal'>,)\n",
      "[<class '__main__.Perro'>, <class '__main__.Gato'>]\n"
     ]
    }
   ],
   "source": [
    "#EJEMPLO DE CLASE PADRE E HIJA (HERENCIA)\n",
    "class Animal:\n",
    "    pass\n",
    "\n",
    "class Perro(Animal):\n",
    "    pass\n",
    "\n",
    "class Gato(Animal):\n",
    "    pass\n",
    "\n",
    "print(Perro.__bases__)\n",
    "print(Animal.__subclasses__())\n"
   ]
  },
  {
   "cell_type": "code",
   "execution_count": 13,
   "metadata": {},
   "outputs": [
    {
     "name": "stdout",
     "output_type": "stream",
     "text": [
      "Guau!\n",
      "Muuu!\n",
      "Soy un Animal del tipo Vaca\n",
      "Soy un Animal del tipo Abeja\n",
      "Picar!\n"
     ]
    }
   ],
   "source": [
    "#HERENCIA EXTENDIDA Y SOBRESCRITURA DE METODOS\n",
    "class Animal:\n",
    "    def __init__(self, especie, edad):\n",
    "        self.especie = especie\n",
    "        self.edad = edad\n",
    "    # Método genérico pero con implementación particular \n",
    "    def hablar(self):\n",
    "    # Método vacío \n",
    "        pass\n",
    "\n",
    "    # Método genérico pero con implementación particular \n",
    "    def moverse(self):\n",
    "    # Método vacío \n",
    "        pass\n",
    "\n",
    "    # Método genérico con la misma implementación \n",
    "    def describeme(self):\n",
    "        print(\"Soy un Animal del tipo\", type(self).__name__)\n",
    "\n",
    "\n",
    "\n",
    "\n",
    "class Perro(Animal):\n",
    "    def hablar(self):\n",
    "        print(\"Guau!\")\n",
    "\n",
    "    def moverse(self):\n",
    "        print(\"Caminando con 4 patas\")\n",
    "\n",
    "class Vaca(Animal):\n",
    "    def hablar(self):\n",
    "        print(\"Muuu!\")\n",
    "    \n",
    "    def moverse(self):\n",
    "        print(\"Caminando con 4 patas\")\n",
    "\n",
    "class Abeja(Animal):\n",
    "    def hablar(self):\n",
    "        print(\"Bzzzz!\")\n",
    "    \n",
    "    def moverse(self):\n",
    "        print(\"Volando\")\n",
    "    \n",
    "    # Nuevo método \n",
    "    def picar(self):\n",
    "        print(\"Picar!\")\n",
    "\n",
    "\n",
    "mi_perro = Perro('mamífero', 10)\n",
    "mi_vaca = Vaca('mamífero', 23)\n",
    "mi_abeja = Abeja('insecto', 1)\n",
    "mi_perro.hablar()\n",
    "mi_vaca.hablar()\n",
    "mi_vaca.describeme()\n",
    "mi_abeja.describeme()\n",
    "mi_abeja.picar()\n"
   ]
  },
  {
   "cell_type": "code",
   "execution_count": 17,
   "metadata": {},
   "outputs": [
    {
     "data": {
      "text/plain": [
       "'Luis'"
      ]
     },
     "execution_count": 17,
     "metadata": {},
     "output_type": "execute_result"
    }
   ],
   "source": [
    "#HERENCIA: USO DE SUPER()\n",
    "class Animal:\n",
    "    def __init__(self, especie, edad):\n",
    "        self.especie = especie\n",
    "        self.edad = edad\n",
    "\n",
    "    def hablar(self):\n",
    "        pass\n",
    "\n",
    "    def moverse(self):\n",
    "        pass\n",
    "\n",
    "    def describeme(self):\n",
    "        print(\"Soy un Animal del tipo\", type(self).__name__)\n",
    "        \n",
    "\n",
    "class Perro(Animal):\n",
    "    def __init__(self, especie, edad, dueño):\n",
    "        super().__init__(especie, edad) #invoca Animal __init__\n",
    "        self.dueño = dueño\n",
    "        \n",
    "mi_perro = Perro('mamífero', 7, 'Luis')\n",
    "mi_perro.dueño\n"
   ]
  },
  {
   "cell_type": "code",
   "execution_count": 20,
   "metadata": {},
   "outputs": [
    {
     "name": "stdout",
     "output_type": "stream",
     "text": [
      "(<class '__main__.Clase3'>, <class '__main__.Clase1'>, <class '__main__.Clase2'>, <class 'object'>)\n"
     ]
    }
   ],
   "source": [
    "#HERENCIA MULTIPLE\n",
    "class Clase1:\n",
    "    pass\n",
    "class Clase2:\n",
    "    pass\n",
    "class Clase3(Clase1, Clase2):\n",
    "    pass\n",
    "\n",
    "\n",
    "#NIVELES DE HERENCIA\n",
    "class Clase1:\n",
    "    pass\n",
    "class Clase2(Clase1):\n",
    "    pass\n",
    "class Clase3(Clase2):\n",
    "    pass\n",
    "\n",
    "#EJEMPLO DE MULTIPLE\n",
    "class Clase1:\n",
    "    pass\n",
    "class Clase2:\n",
    "    pass\n",
    "class Clase3(Clase1, Clase2):\n",
    "    pass\n",
    "\n",
    "print(Clase3.__mro__)"
   ]
  },
  {
   "cell_type": "code",
   "execution_count": 21,
   "metadata": {},
   "outputs": [
    {
     "name": "stdout",
     "output_type": "stream",
     "text": [
      "Guau!\n",
      "Miau!\n"
     ]
    }
   ],
   "source": [
    "#POLIMORFISMO\n",
    "class Animal:\n",
    "    def hablar(self):\n",
    "        pass\n",
    "    \n",
    "class Perro(Animal):\n",
    "    def hablar(self):\n",
    "        print(\"Guau!\")\n",
    "\n",
    "class Gato(Animal):\n",
    "    def hablar(self):\n",
    "        print(\"Miau!\")\n",
    "        \n",
    "for animal in Perro(), Gato():\n",
    "    animal.hablar()"
   ]
  }
 ],
 "metadata": {
  "kernelspec": {
   "display_name": "Python 3",
   "language": "python",
   "name": "python3"
  },
  "language_info": {
   "codemirror_mode": {
    "name": "ipython",
    "version": 3
   },
   "file_extension": ".py",
   "mimetype": "text/x-python",
   "name": "python",
   "nbconvert_exporter": "python",
   "pygments_lexer": "ipython3",
   "version": "3.11.0"
  }
 },
 "nbformat": 4,
 "nbformat_minor": 2
}
