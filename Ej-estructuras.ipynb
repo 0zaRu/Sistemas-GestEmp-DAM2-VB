{
 "cells": [
  {
   "cell_type": "code",
   "execution_count": null,
   "metadata": {},
   "outputs": [],
   "source": [
    "#CONDICIONALES IF ELSE ELIF\n",
    "a=6\n",
    "\n",
    "if a > 5:\n",
    "    print(\"Es mayor que 5\"); print(\"Dentro del if\")\n",
    "else:\n",
    "    print(\"Es menor que 5\"); print(\"Dentro del else\")\n",
    "\n",
    "if a < 5:\n",
    "    print(\"Es menor que 5\"); print(\"Dentro del if\")\n",
    "else:\n",
    "    print(\"Es mayor que 5\"); print(\"Dentro del else\")\n",
    "\n",
    "a = 5\n",
    "\n",
    "if (a < 5):\n",
    "    print(\"Es menor que 5\"); print(\"Dentro del if\")\n",
    "elif a == 5 :\n",
    "    print(\"Es igual que 5\"); print(\"Dentro del if\")\n",
    "else:\n",
    "    print(\"Es mayor que 5\"); print(\"Dentro del else\")"
   ]
  },
  {
   "cell_type": "code",
   "execution_count": null,
   "metadata": {},
   "outputs": [],
   "source": [
    "#CONDICIONAL SWITCH #######################################################################################\n",
    "#NO LOS VOY A COPIAR, PERO HAY MUCHOS SWITCH QUE SE SIMULAN CON IF ELIF ELSE, METODOS, O LA MEZCLA DE AMBAS\n",
    "\n",
    "#es especifico este de lambdas no va o no se usarlo\n",
    "def opera(operador, a, b):\n",
    "    return {\n",
    "        'suma':lambda: a+b,\n",
    "        'resta':lambda: a-b,\n",
    "        'multiplica':lambda: a*b,\n",
    "        'divide':lambda: a/b\n",
    "    }.get(operador, lambda:None)    \n",
    "\n",
    "print()\n",
    "print(opera('suma', 10, 2))\n",
    "print()"
   ]
  },
  {
   "cell_type": "code",
   "execution_count": null,
   "metadata": {},
   "outputs": [],
   "source": [
    "#switch con diccionarios\n",
    "tabla_switch = {\n",
    "    '0': '000',\n",
    "    '1': '001',\n",
    "    '2': '010',\n",
    "    '3': '011',\n",
    "    '4': '100',\n",
    "    '5': '101',\n",
    "    '6': '110',\n",
    "    '7': '111',\n",
    "}\n",
    "\n",
    "def usaDiccionario(decimal):\n",
    "    return tabla_switch.get(decimal)\n",
    "\n",
    "#input devuelve siempre cadenas, así que habría que hacer castings para almacenarlo de otra forma\n",
    "print()\n",
    "print(usaDiccionario(input(\"introduce un numero entre 0 y 7: \")))"
   ]
  },
  {
   "cell_type": "code",
   "execution_count": null,
   "metadata": {},
   "outputs": [],
   "source": [
    "#BUCLES E ITERADORES ####################################################################################\n",
    "print()\n",
    "cadena = 'Cadena prueba'\n",
    "\n",
    "for i in cadena:\n",
    "    print(\"caracter:\", i)"
   ]
  },
  {
   "cell_type": "code",
   "execution_count": null,
   "metadata": {},
   "outputs": [],
   "source": [
    "#Comprobacion de \"iterables\" para saber si se puede recorrer de forma habitual o no, x información\n",
    "print()\n",
    "from typing import Iterable\n",
    "lista = [1, 2, 3, 4] \n",
    "cadena = \"Python\" \n",
    "numero = 10 \n",
    "print(isinstance(lista, Iterable)) #True \n",
    "print(isinstance(cadena, Iterable)) #True \n",
    "print(isinstance(numero, Iterable)) #False"
   ]
  },
  {
   "cell_type": "code",
   "execution_count": null,
   "metadata": {},
   "outputs": [],
   "source": [
    "#Hacer las cosas iterables\n",
    "print()\n",
    "lista = [5, 6, 3, 2]\n",
    "it = iter(lista)\n",
    "print(it) #<list_iterator object at 0x...>\n",
    "print(type(it)) #<class 'list_iterator'>\n"
   ]
  },
  {
   "cell_type": "code",
   "execution_count": null,
   "metadata": {},
   "outputs": [],
   "source": [
    "#utilizar función next\n",
    "print()\n",
    "lista = [5, 6, 7]\n",
    "it1 = iter(lista)\n",
    "it2 = iter(lista)\n",
    "print(next(it1)) #5\n",
    "print(next(it1)) #6\n",
    "print(next(it1)) #7\n",
    "# print(next(it1))   daría error, porque se sale del tamaño de la lista\n",
    "print(next(it2)) #5"
   ]
  },
  {
   "cell_type": "code",
   "execution_count": null,
   "metadata": {},
   "outputs": [],
   "source": [
    "#Bucle for\n",
    "#bucles anidados (recorrer matrices)\n",
    "#en este caso, tenemos hasta dimensione diferentes, y podemos recorrerlo igual con las comprobaciones suficientes\n",
    "print()\n",
    "lista = [[[56, 34, 62], 34, 1], [12, 4, 5], [9, 4, 3]]\n",
    "\n",
    "for i in lista:\n",
    "    print(\"i vale:\",i)\n",
    "    for j in i:\n",
    "        print(\"\\tj vale:\",j)\n",
    "        if type(j) == list:\n",
    "            for k in j:\n",
    "                print(\"\\t\\tk vale:\",k)\n",
    "    print()\n"
   ]
  },
  {
   "cell_type": "code",
   "execution_count": null,
   "metadata": {},
   "outputs": [],
   "source": [
    "#recorrido con salto \n",
    "print()\n",
    "texto = \"Python\"\n",
    "for i in texto[::-1]:\n",
    "    print(i) #n,o,h,t,y,P\n",
    "\n",
    "\n",
    "print()\n",
    "texto = \"Python\"\n",
    "for i in texto[::2]:\n",
    "    print(i) #P,t,o"
   ]
  },
  {
   "cell_type": "code",
   "execution_count": null,
   "metadata": {},
   "outputs": [],
   "source": [
    "#recorrido de numeros enteros\n",
    "print()\n",
    "a = range(5)\n",
    "\n",
    "for i in a:\n",
    "    print(i)\n",
    "\n",
    "print()\n",
    "for i in range(4, 8):\n",
    "    print(i)"
   ]
  },
  {
   "cell_type": "code",
   "execution_count": null,
   "metadata": {},
   "outputs": [],
   "source": [
    "#puedo hacer un factorial solo aplicando el metodo sum a un rango\n",
    "print()\n",
    "print(sum(a)) #son 4 vueltas y no 5, porque es del 0 al 4, así que da 10\n",
    "\n",
    "#puedo hacer cosas muy raras:\n",
    "print()\n",
    "print(sum(i for i in range(10)))"
   ]
  },
  {
   "cell_type": "code",
   "execution_count": null,
   "metadata": {},
   "outputs": [],
   "source": [
    "##############################################################################\n",
    "#WHILE\n",
    "print()\n",
    "x = 5 \n",
    "while x > 0: \n",
    "    x -= 1\n",
    "    print(x) \n",
    "\n",
    "#en este caso, el while será siempre i cuando queden elementos (pop los saca desde \"arriba\")\n",
    "print()\n",
    "x = [\"Uno\", \"Dos\", \"Tres\"] \n",
    "while x: \n",
    "    print(\"popeado: [\"+x.pop(0)+\"]\\trestante: \", x, end=\" \") \n",
    "    print()"
   ]
  },
  {
   "cell_type": "code",
   "execution_count": null,
   "metadata": {},
   "outputs": [],
   "source": [
    "# WHILE ELSE que cojones\n",
    "print()\n",
    "x = 5\n",
    "while x > 0: \n",
    "    x -=1 \n",
    "    print(x, end=\" \") #4,3,2,1,0 \n",
    "\n",
    "else: \n",
    "    print()\n",
    "    print(\"El bucle ha finalizado\")"
   ]
  },
  {
   "cell_type": "code",
   "execution_count": null,
   "metadata": {},
   "outputs": [],
   "source": [
    "# más bucles anidados\n",
    "i = 0 \n",
    "j = 0 \n",
    "while i < 3: \n",
    "    while j < 3: \n",
    "        print(i,j) \n",
    "        j += 1 \n",
    "    i += 1 \n",
    "\n",
    "print()\n",
    "text = \"Python\"\n",
    "i = 0\n",
    "while i < len(text):\n",
    "    print(text[:i + 1])\n",
    "    i += 1"
   ]
  },
  {
   "cell_type": "code",
   "execution_count": null,
   "metadata": {},
   "outputs": [],
   "source": [
    "#Puedes multiplicar conjuntos de texto para que salgan tantas veces como quieras\n",
    "#El arbol se queda sencillito sencillito\n",
    "z = 7 \n",
    "x = 1 \n",
    "while z > 0: \n",
    "    print(' ' * z + '*' * x + ' ' * z) \n",
    "    x+=2 \n",
    "    z-=1"
   ]
  }
 ],
 "metadata": {
  "kernelspec": {
   "display_name": "Python 3",
   "language": "python",
   "name": "python3"
  },
  "language_info": {
   "name": "python",
   "version": "3.9.7"
  }
 },
 "nbformat": 4,
 "nbformat_minor": 2
}
